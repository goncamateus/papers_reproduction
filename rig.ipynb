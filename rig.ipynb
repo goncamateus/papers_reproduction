{
 "metadata": {
  "language_info": {
   "codemirror_mode": {
    "name": "ipython",
    "version": 3
   },
   "file_extension": ".py",
   "mimetype": "text/x-python",
   "name": "python",
   "nbconvert_exporter": "python",
   "pygments_lexer": "ipython3",
   "version": "3.7.7-final"
  },
  "orig_nbformat": 2,
  "kernelspec": {
   "name": "Python 3.7.7 64-bit ('goncareprod': conda)",
   "display_name": "Python 3.7.7 64-bit ('goncareprod': conda)",
   "metadata": {
    "interpreter": {
     "hash": "4272e52c4de0a7f8d5b08f0b04f0eb590fd27aeb04f96d49bd70e439c4400618"
    }
   }
  }
 },
 "nbformat": 4,
 "nbformat_minor": 2,
 "cells": [
  {
   "cell_type": "code",
   "execution_count": 1,
   "metadata": {},
   "outputs": [],
   "source": [
    "import gym\n",
    "import numpy as np\n",
    "\n",
    "from torch import optim\n",
    "\n",
    "from models.dqn import Qnet, train\n",
    "from utils.memory import ReplayBuffer\n",
    "from utils.sync import soft_sync\n"
   ]
  },
  {
   "cell_type": "code",
   "execution_count": 2,
   "metadata": {},
   "outputs": [],
   "source": [
    "env = gym.make('FetchReach-v1')"
   ]
  }
 ]
}